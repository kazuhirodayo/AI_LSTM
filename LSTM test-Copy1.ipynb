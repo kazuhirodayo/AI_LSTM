{
 "cells": [
  {
   "cell_type": "code",
   "execution_count": 1,
   "id": "98365949",
   "metadata": {
    "ExecuteTime": {
     "end_time": "2021-12-15T07:42:29.652690Z",
     "start_time": "2021-12-15T07:42:27.140883Z"
    }
   },
   "outputs": [
    {
     "name": "stderr",
     "output_type": "stream",
     "text": [
      "C:\\Users\\admin\\anaconda3\\envs\\sample\\lib\\site-packages\\tensorflow\\python\\framework\\dtypes.py:516: FutureWarning: Passing (type, 1) or '1type' as a synonym of type is deprecated; in a future version of numpy, it will be understood as (type, (1,)) / '(1,)type'.\n",
      "  _np_qint8 = np.dtype([(\"qint8\", np.int8, 1)])\n",
      "C:\\Users\\admin\\anaconda3\\envs\\sample\\lib\\site-packages\\tensorflow\\python\\framework\\dtypes.py:517: FutureWarning: Passing (type, 1) or '1type' as a synonym of type is deprecated; in a future version of numpy, it will be understood as (type, (1,)) / '(1,)type'.\n",
      "  _np_quint8 = np.dtype([(\"quint8\", np.uint8, 1)])\n",
      "C:\\Users\\admin\\anaconda3\\envs\\sample\\lib\\site-packages\\tensorflow\\python\\framework\\dtypes.py:518: FutureWarning: Passing (type, 1) or '1type' as a synonym of type is deprecated; in a future version of numpy, it will be understood as (type, (1,)) / '(1,)type'.\n",
      "  _np_qint16 = np.dtype([(\"qint16\", np.int16, 1)])\n",
      "C:\\Users\\admin\\anaconda3\\envs\\sample\\lib\\site-packages\\tensorflow\\python\\framework\\dtypes.py:519: FutureWarning: Passing (type, 1) or '1type' as a synonym of type is deprecated; in a future version of numpy, it will be understood as (type, (1,)) / '(1,)type'.\n",
      "  _np_quint16 = np.dtype([(\"quint16\", np.uint16, 1)])\n",
      "C:\\Users\\admin\\anaconda3\\envs\\sample\\lib\\site-packages\\tensorflow\\python\\framework\\dtypes.py:520: FutureWarning: Passing (type, 1) or '1type' as a synonym of type is deprecated; in a future version of numpy, it will be understood as (type, (1,)) / '(1,)type'.\n",
      "  _np_qint32 = np.dtype([(\"qint32\", np.int32, 1)])\n",
      "C:\\Users\\admin\\anaconda3\\envs\\sample\\lib\\site-packages\\tensorflow\\python\\framework\\dtypes.py:525: FutureWarning: Passing (type, 1) or '1type' as a synonym of type is deprecated; in a future version of numpy, it will be understood as (type, (1,)) / '(1,)type'.\n",
      "  np_resource = np.dtype([(\"resource\", np.ubyte, 1)])\n",
      "C:\\Users\\admin\\anaconda3\\envs\\sample\\lib\\site-packages\\tensorboard\\compat\\tensorflow_stub\\dtypes.py:541: FutureWarning: Passing (type, 1) or '1type' as a synonym of type is deprecated; in a future version of numpy, it will be understood as (type, (1,)) / '(1,)type'.\n",
      "  _np_qint8 = np.dtype([(\"qint8\", np.int8, 1)])\n",
      "C:\\Users\\admin\\anaconda3\\envs\\sample\\lib\\site-packages\\tensorboard\\compat\\tensorflow_stub\\dtypes.py:542: FutureWarning: Passing (type, 1) or '1type' as a synonym of type is deprecated; in a future version of numpy, it will be understood as (type, (1,)) / '(1,)type'.\n",
      "  _np_quint8 = np.dtype([(\"quint8\", np.uint8, 1)])\n",
      "C:\\Users\\admin\\anaconda3\\envs\\sample\\lib\\site-packages\\tensorboard\\compat\\tensorflow_stub\\dtypes.py:543: FutureWarning: Passing (type, 1) or '1type' as a synonym of type is deprecated; in a future version of numpy, it will be understood as (type, (1,)) / '(1,)type'.\n",
      "  _np_qint16 = np.dtype([(\"qint16\", np.int16, 1)])\n",
      "C:\\Users\\admin\\anaconda3\\envs\\sample\\lib\\site-packages\\tensorboard\\compat\\tensorflow_stub\\dtypes.py:544: FutureWarning: Passing (type, 1) or '1type' as a synonym of type is deprecated; in a future version of numpy, it will be understood as (type, (1,)) / '(1,)type'.\n",
      "  _np_quint16 = np.dtype([(\"quint16\", np.uint16, 1)])\n",
      "C:\\Users\\admin\\anaconda3\\envs\\sample\\lib\\site-packages\\tensorboard\\compat\\tensorflow_stub\\dtypes.py:545: FutureWarning: Passing (type, 1) or '1type' as a synonym of type is deprecated; in a future version of numpy, it will be understood as (type, (1,)) / '(1,)type'.\n",
      "  _np_qint32 = np.dtype([(\"qint32\", np.int32, 1)])\n",
      "C:\\Users\\admin\\anaconda3\\envs\\sample\\lib\\site-packages\\tensorboard\\compat\\tensorflow_stub\\dtypes.py:550: FutureWarning: Passing (type, 1) or '1type' as a synonym of type is deprecated; in a future version of numpy, it will be understood as (type, (1,)) / '(1,)type'.\n",
      "  np_resource = np.dtype([(\"resource\", np.ubyte, 1)])\n",
      "Using TensorFlow backend.\n"
     ]
    }
   ],
   "source": [
    "import tensorflow as tf\n",
    "from keras.models import Sequential\n",
    "from keras.layers import Dense, Masking, Dropout\n",
    "from keras.layers.recurrent import LSTM\n",
    "from keras.optimizers import Adam\n",
    "from tensorflow.keras.utils import to_categorical\n",
    "from sklearn import preprocessing\n",
    "import matplotlib.pyplot as plt\n",
    "import pandas as pd\n",
    "import numpy as np\n",
    "import random"
   ]
  },
  {
   "cell_type": "code",
   "execution_count": 5,
   "id": "a61caf30",
   "metadata": {
    "ExecuteTime": {
     "end_time": "2021-12-15T07:43:52.073748Z",
     "start_time": "2021-12-15T07:43:52.038801Z"
    }
   },
   "outputs": [
    {
     "data": {
      "text/html": [
       "<div>\n",
       "<style scoped>\n",
       "    .dataframe tbody tr th:only-of-type {\n",
       "        vertical-align: middle;\n",
       "    }\n",
       "\n",
       "    .dataframe tbody tr th {\n",
       "        vertical-align: top;\n",
       "    }\n",
       "\n",
       "    .dataframe thead th {\n",
       "        text-align: right;\n",
       "    }\n",
       "</style>\n",
       "<table border=\"1\" class=\"dataframe\">\n",
       "  <thead>\n",
       "    <tr style=\"text-align: right;\">\n",
       "      <th></th>\n",
       "      <th>1</th>\n",
       "      <th>2</th>\n",
       "      <th>3</th>\n",
       "      <th>4</th>\n",
       "      <th>5</th>\n",
       "      <th>6</th>\n",
       "    </tr>\n",
       "  </thead>\n",
       "  <tbody>\n",
       "    <tr>\n",
       "      <th>0</th>\n",
       "      <td>52.8</td>\n",
       "      <td>57.9</td>\n",
       "      <td>51.7</td>\n",
       "      <td>50.8</td>\n",
       "      <td>50.6</td>\n",
       "      <td>51.0</td>\n",
       "    </tr>\n",
       "    <tr>\n",
       "      <th>1</th>\n",
       "      <td>46.5</td>\n",
       "      <td>63.9</td>\n",
       "      <td>57.3</td>\n",
       "      <td>61.4</td>\n",
       "      <td>66.2</td>\n",
       "      <td>67.0</td>\n",
       "    </tr>\n",
       "    <tr>\n",
       "      <th>2</th>\n",
       "      <td>66.8</td>\n",
       "      <td>61.9</td>\n",
       "      <td>63.9</td>\n",
       "      <td>65.1</td>\n",
       "      <td>64.9</td>\n",
       "      <td>62.3</td>\n",
       "    </tr>\n",
       "    <tr>\n",
       "      <th>3</th>\n",
       "      <td>73.9</td>\n",
       "      <td>72.6</td>\n",
       "      <td>76.2</td>\n",
       "      <td>73.8</td>\n",
       "      <td>81.2</td>\n",
       "      <td>80.8</td>\n",
       "    </tr>\n",
       "    <tr>\n",
       "      <th>4</th>\n",
       "      <td>69.4</td>\n",
       "      <td>63.4</td>\n",
       "      <td>62.4</td>\n",
       "      <td>58.7</td>\n",
       "      <td>70.9</td>\n",
       "      <td>73.5</td>\n",
       "    </tr>\n",
       "    <tr>\n",
       "      <th>5</th>\n",
       "      <td>63.0</td>\n",
       "      <td>69.4</td>\n",
       "      <td>64.1</td>\n",
       "      <td>59.4</td>\n",
       "      <td>55.4</td>\n",
       "      <td>64.9</td>\n",
       "    </tr>\n",
       "    <tr>\n",
       "      <th>6</th>\n",
       "      <td>77.1</td>\n",
       "      <td>84.5</td>\n",
       "      <td>98.0</td>\n",
       "      <td>99.9</td>\n",
       "      <td>92.8</td>\n",
       "      <td>79.9</td>\n",
       "    </tr>\n",
       "    <tr>\n",
       "      <th>7</th>\n",
       "      <td>79.4</td>\n",
       "      <td>77.9</td>\n",
       "      <td>75.4</td>\n",
       "      <td>75.1</td>\n",
       "      <td>74.7</td>\n",
       "      <td>76.5</td>\n",
       "    </tr>\n",
       "    <tr>\n",
       "      <th>8</th>\n",
       "      <td>63.4</td>\n",
       "      <td>68.4</td>\n",
       "      <td>56.6</td>\n",
       "      <td>61.6</td>\n",
       "      <td>61.4</td>\n",
       "      <td>60.2</td>\n",
       "    </tr>\n",
       "    <tr>\n",
       "      <th>9</th>\n",
       "      <td>62.6</td>\n",
       "      <td>68.7</td>\n",
       "      <td>60.0</td>\n",
       "      <td>59.8</td>\n",
       "      <td>58.0</td>\n",
       "      <td>61.0</td>\n",
       "    </tr>\n",
       "  </tbody>\n",
       "</table>\n",
       "</div>"
      ],
      "text/plain": [
       "      1     2     3     4     5     6\n",
       "0  52.8  57.9  51.7  50.8  50.6  51.0\n",
       "1  46.5  63.9  57.3  61.4  66.2  67.0\n",
       "2  66.8  61.9  63.9  65.1  64.9  62.3\n",
       "3  73.9  72.6  76.2  73.8  81.2  80.8\n",
       "4  69.4  63.4  62.4  58.7  70.9  73.5\n",
       "5  63.0  69.4  64.1  59.4  55.4  64.9\n",
       "6  77.1  84.5  98.0  99.9  92.8  79.9\n",
       "7  79.4  77.9  75.4  75.1  74.7  76.5\n",
       "8  63.4  68.4  56.6  61.6  61.4  60.2\n",
       "9  62.6  68.7  60.0  59.8  58.0  61.0"
      ]
     },
     "execution_count": 5,
     "metadata": {},
     "output_type": "execute_result"
    }
   ],
   "source": [
    "\n",
    "df = pd.read_csv(\"C:/Users/admin/LSTM0.csv\",header=None,\n",
    "                 usecols=[1, 2, 3, 4, 5, 6\n",
    "                        ])\n",
    "df"
   ]
  },
  {
   "cell_type": "code",
   "execution_count": 6,
   "id": "9e259a09",
   "metadata": {
    "ExecuteTime": {
     "end_time": "2021-12-15T07:43:58.643573Z",
     "start_time": "2021-12-15T07:43:58.637588Z"
    }
   },
   "outputs": [],
   "source": [
    "number = df.shape[0]\n",
    "time_unit = df.shape[1] - 1\n",
    "train_size=500"
   ]
  },
  {
   "cell_type": "code",
   "execution_count": 7,
   "id": "1c640ba1",
   "metadata": {
    "ExecuteTime": {
     "end_time": "2021-12-15T07:43:59.456409Z",
     "start_time": "2021-12-15T07:43:59.418900Z"
    }
   },
   "outputs": [
    {
     "ename": "ValueError",
     "evalue": "cannot reshape array of size 50 into shape (500,5,1)",
     "output_type": "error",
     "traceback": [
      "\u001b[1;31m---------------------------------------------------------------------------\u001b[0m",
      "\u001b[1;31mValueError\u001b[0m                                Traceback (most recent call last)",
      "\u001b[1;32mC:\\Users\\admin\\AppData\\Local\\Temp/ipykernel_15508/2632442807.py\u001b[0m in \u001b[0;36m<module>\u001b[1;34m\u001b[0m\n\u001b[0;32m      2\u001b[0m \u001b[0mtrain_x\u001b[0m \u001b[1;33m=\u001b[0m \u001b[0mvalues\u001b[0m\u001b[1;33m[\u001b[0m\u001b[1;33m:\u001b[0m\u001b[0mtrain_size\u001b[0m\u001b[1;33m,\u001b[0m \u001b[1;33m:\u001b[0m\u001b[1;33m-\u001b[0m\u001b[1;36m1\u001b[0m\u001b[1;33m]\u001b[0m\u001b[1;33m\u001b[0m\u001b[1;33m\u001b[0m\u001b[0m\n\u001b[0;32m      3\u001b[0m \u001b[0mtrain_x\u001b[0m \u001b[1;33m=\u001b[0m \u001b[0mtrain_x\u001b[0m\u001b[1;33m.\u001b[0m\u001b[0mreshape\u001b[0m\u001b[1;33m(\u001b[0m\u001b[1;33m-\u001b[0m\u001b[1;36m1\u001b[0m\u001b[1;33m,\u001b[0m \u001b[1;36m1\u001b[0m\u001b[1;33m)\u001b[0m\u001b[1;33m\u001b[0m\u001b[1;33m\u001b[0m\u001b[0m\n\u001b[1;32m----> 4\u001b[1;33m \u001b[0mtrain_x\u001b[0m \u001b[1;33m=\u001b[0m \u001b[0mtrain_x\u001b[0m\u001b[1;33m.\u001b[0m\u001b[0mreshape\u001b[0m\u001b[1;33m(\u001b[0m\u001b[0mtrain_size\u001b[0m\u001b[1;33m,\u001b[0m \u001b[0mtime_unit\u001b[0m\u001b[1;33m,\u001b[0m \u001b[1;36m1\u001b[0m\u001b[1;33m)\u001b[0m\u001b[1;33m\u001b[0m\u001b[1;33m\u001b[0m\u001b[0m\n\u001b[0m",
      "\u001b[1;31mValueError\u001b[0m: cannot reshape array of size 50 into shape (500,5,1)"
     ]
    }
   ],
   "source": [
    "\n",
    "\n",
    "values = df.values\n",
    "train_x = values[:train_size, :-1]\n",
    "train_x = train_x.reshape(-1, 1)\n",
    "train_x = train_x.reshape(train_size, time_unit, 1)\n"
   ]
  },
  {
   "cell_type": "code",
   "execution_count": 10,
   "id": "bad64480",
   "metadata": {
    "ExecuteTime": {
     "end_time": "2021-12-15T07:40:02.577743Z",
     "start_time": "2021-12-15T07:40:02.566771Z"
    }
   },
   "outputs": [],
   "source": [
    "test_x = values[train_size:, :-1]\n",
    "test_x = test_x.reshape(-1, 1)\n",
    "test_x = test_x.reshape(number-train_size, time_unit, 1)"
   ]
  },
  {
   "cell_type": "code",
   "execution_count": 11,
   "id": "c554f0e3",
   "metadata": {
    "ExecuteTime": {
     "end_time": "2021-12-15T07:40:04.074315Z",
     "start_time": "2021-12-15T07:40:04.059395Z"
    }
   },
   "outputs": [],
   "source": [
    "scaler = preprocessing.StandardScaler()\n",
    "train_y = values[:train_size, -1]\n",
    "train_y = train_y.reshape(-1, 1)\n",
    "train_y = scaler.fit_transform(train_y)\n",
    "train_y = train_y.reshape(-1, )"
   ]
  },
  {
   "cell_type": "code",
   "execution_count": 12,
   "id": "efda78fc",
   "metadata": {
    "ExecuteTime": {
     "end_time": "2021-12-15T07:40:05.172130Z",
     "start_time": "2021-12-15T07:40:05.159143Z"
    }
   },
   "outputs": [],
   "source": [
    "test_y = values[train_size:, -1]\n",
    "test_y = test_y.reshape(-1, 1)\n",
    "test_y = scaler.fit_transform(test_y)\n",
    "test_y = test_y.reshape(-1, )"
   ]
  },
  {
   "cell_type": "code",
   "execution_count": 14,
   "id": "bdccdafa",
   "metadata": {
    "ExecuteTime": {
     "end_time": "2021-12-15T07:40:44.840125Z",
     "start_time": "2021-12-15T07:40:44.541002Z"
    }
   },
   "outputs": [
    {
     "name": "stdout",
     "output_type": "stream",
     "text": [
      "Model: \"sequential_2\"\n",
      "_________________________________________________________________\n",
      "Layer (type)                 Output Shape              Param #   \n",
      "=================================================================\n",
      "lstm_2 (LSTM)                (None, 256)               264192    \n",
      "_________________________________________________________________\n",
      "dense_2 (Dense)              (None, 1)                 257       \n",
      "=================================================================\n",
      "Total params: 264,449\n",
      "Trainable params: 264,449\n",
      "Non-trainable params: 0\n",
      "_________________________________________________________________\n"
     ]
    }
   ],
   "source": [
    "model = Sequential()\n",
    "model.add(LSTM(256,input_shape=(time_unit,1),return_sequences=False))\n",
    "model.add(Dense(1))\n",
    "model.compile(loss=\"mean_squared_error\", optimizer=Adam())\n",
    "model.summary()"
   ]
  },
  {
   "cell_type": "code",
   "execution_count": 15,
   "id": "0e7c6d33",
   "metadata": {
    "ExecuteTime": {
     "end_time": "2021-12-15T07:40:49.323029Z",
     "start_time": "2021-12-15T07:40:46.984122Z"
    }
   },
   "outputs": [
    {
     "name": "stdout",
     "output_type": "stream",
     "text": [
      "WARNING:tensorflow:From C:\\Users\\admin\\anaconda3\\envs\\sample\\lib\\site-packages\\keras\\backend\\tensorflow_backend.py:422: The name tf.global_variables is deprecated. Please use tf.compat.v1.global_variables instead.\n",
      "\n",
      "Train on 500 samples, validate on 271 samples\n",
      "Epoch 1/10\n",
      "500/500 [==============================] - 0s 900us/step - loss: 1.2559 - val_loss: 1.0078\n",
      "Epoch 2/10\n",
      "500/500 [==============================] - 0s 242us/step - loss: 0.9110 - val_loss: 0.6749\n",
      "Epoch 3/10\n",
      "500/500 [==============================] - 0s 238us/step - loss: 0.6092 - val_loss: 0.4954\n",
      "Epoch 4/10\n",
      "500/500 [==============================] - 0s 226us/step - loss: 0.4280 - val_loss: 0.3071\n",
      "Epoch 5/10\n",
      "500/500 [==============================] - 0s 234us/step - loss: 0.3429 - val_loss: 0.2721\n",
      "Epoch 6/10\n",
      "500/500 [==============================] - 0s 270us/step - loss: 0.2933 - val_loss: 0.2309\n",
      "Epoch 7/10\n",
      "500/500 [==============================] - 0s 283us/step - loss: 0.2632 - val_loss: 0.2202\n",
      "Epoch 8/10\n",
      "500/500 [==============================] - 0s 300us/step - loss: 0.2441 - val_loss: 0.2026\n",
      "Epoch 9/10\n",
      "500/500 [==============================] - 0s 289us/step - loss: 0.2251 - val_loss: 0.1801\n",
      "Epoch 10/10\n",
      "500/500 [==============================] - 0s 211us/step - loss: 0.2205 - val_loss: 0.2171\n"
     ]
    }
   ],
   "source": [
    "result = model.fit(train_x,\n",
    "                   train_y,\n",
    "                   batch_size=128,\n",
    "                   epochs=10,\n",
    "                   validation_data=(test_x, test_y))\n"
   ]
  },
  {
   "cell_type": "code",
   "execution_count": 16,
   "id": "f8635d96",
   "metadata": {
    "ExecuteTime": {
     "end_time": "2021-12-15T07:41:37.123361Z",
     "start_time": "2021-12-15T07:41:37.023191Z"
    }
   },
   "outputs": [],
   "source": [
    "model.save_weights('LSTM.hdf5')"
   ]
  },
  {
   "cell_type": "code",
   "execution_count": 17,
   "id": "5397a9bb",
   "metadata": {
    "ExecuteTime": {
     "end_time": "2021-12-15T07:41:45.186198Z",
     "start_time": "2021-12-15T07:41:45.043327Z"
    }
   },
   "outputs": [
    {
     "data": {
      "image/png": "[encoded data removed]",
      "text/plain": [
       "<Figure size 432x288 with 1 Axes>"
      ]
     },
     "metadata": {
      "needs_background": "light"
     },
     "output_type": "display_data"
    }
   ],
   "source": [
    "plt.plot(result.history['loss'],'blue', label='Training')\n",
    "plt.plot(result.history['val_loss'],'red', label='Test')\n",
    "plt.title('Loss')\n",
    "plt.legend(['train_loss','test_loss'], loc='upper left')\n",
    "plt.show()"
   ]
  },
  {
   "cell_type": "code",
   "execution_count": 18,
   "id": "af79dcb9",
   "metadata": {
    "ExecuteTime": {
     "end_time": "2021-12-15T07:41:48.166932Z",
     "start_time": "2021-12-15T07:41:47.736768Z"
    }
   },
   "outputs": [],
   "source": [
    "import math\n",
    "import openpyxl \n",
    "wb = openpyxl.load_workbook(\"LSTM.xlsx\")\n",
    "ws = wb.active\n",
    "point=10"
   ]
  },
  {
   "cell_type": "code",
   "execution_count": 19,
   "id": "e7631808",
   "metadata": {
    "ExecuteTime": {
     "end_time": "2021-12-15T07:41:50.269625Z",
     "start_time": "2021-12-15T07:41:50.121052Z"
    }
   },
   "outputs": [],
   "source": [
    "#R1\n",
    "train_R1=model.predict(train_x)\n",
    "train_R1=scaler.inverse_transform(train_R1)\n",
    "train_R1=train_R1.reshape(-1,1)\n"
   ]
  },
  {
   "cell_type": "code",
   "execution_count": 20,
   "id": "ba476119",
   "metadata": {
    "ExecuteTime": {
     "end_time": "2021-12-15T07:41:51.159852Z",
     "start_time": "2021-12-15T07:41:51.092036Z"
    }
   },
   "outputs": [],
   "source": [
    "test_R1=model.predict(test_x)\n",
    "test_R1=scaler.inverse_transform(test_R1)\n",
    "test_R1=test_R1.reshape(-1,1)\n"
   ]
  },
  {
   "cell_type": "code",
   "execution_count": 21,
   "id": "11283ae8",
   "metadata": {
    "ExecuteTime": {
     "end_time": "2021-12-15T07:41:52.352568Z",
     "start_time": "2021-12-15T07:41:52.330626Z"
    }
   },
   "outputs": [],
   "source": [
    "for i in range(train_size):\n",
    "    R1=math.ceil(train_R1[i]*point)\n",
    "    ws.cell(column=8,row=1,value=\"Predicted_R1\")\n",
    "    ws.cell(column=8,row=i+2,value=R1/point)"
   ]
  },
  {
   "cell_type": "code",
   "execution_count": 22,
   "id": "056410d2",
   "metadata": {
    "ExecuteTime": {
     "end_time": "2021-12-15T07:41:53.515003Z",
     "start_time": "2021-12-15T07:41:53.494061Z"
    }
   },
   "outputs": [],
   "source": [
    "for i in range(number-train_size):\n",
    "    R1=math.ceil(test_R1[i]*point)\n",
    "    ws.cell(column=8,row=1,value=\"Predicted_R1\")\n",
    "    ws.cell(column=8,row=i+2+train_size,value=R1/point)"
   ]
  },
  {
   "cell_type": "code",
   "execution_count": 23,
   "id": "23c510a5",
   "metadata": {
    "ExecuteTime": {
     "end_time": "2021-12-15T07:41:54.866051Z",
     "start_time": "2021-12-15T07:41:54.750890Z"
    }
   },
   "outputs": [],
   "source": [
    "wb.save(\"LSTM.xlsx\")"
   ]
  },
  {
   "cell_type": "code",
   "execution_count": null,
   "id": "fdbbb2ce",
   "metadata": {},
   "outputs": [],
   "source": []
  }
 ],
 "metadata": {
  "kernelspec": {
   "display_name": "Python 3 (ipykernel)",
   "language": "python",
   "name": "python3"
  },
  "language_info": {
   "codemirror_mode": {
    "name": "ipython",
    "version": 3
   },
   "file_extension": ".py",
   "mimetype": "text/x-python",
   "name": "python",
   "nbconvert_exporter": "python",
   "pygments_lexer": "ipython3",
   "version": "3.7.11"
  },
  "varInspector": {
   "cols": {
    "lenName": 16,
    "lenType": 16,
    "lenVar": 40
   },
   "kernels_config": {
    "python": {
     "delete_cmd_postfix": "",
     "delete_cmd_prefix": "del ",
     "library": "var_list.py",
     "varRefreshCmd": "print(var_dic_list())"
    },
    "r": {
     "delete_cmd_postfix": ") ",
     "delete_cmd_prefix": "rm(",
     "library": "var_list.r",
     "varRefreshCmd": "cat(var_dic_list()) "
    }
   },
   "types_to_exclude": [
    "module",
    "function",
    "builtin_function_or_method",
    "instance",
    "_Feature"
   ],
   "window_display": false
  }
 },
 "nbformat": 4,
 "nbformat_minor": 5
}
